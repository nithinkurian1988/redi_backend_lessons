{
 "cells": [
  {
   "cell_type": "code",
   "execution_count": 30,
   "metadata": {
    "colab": {
     "base_uri": "https://localhost:8080/",
     "height": 35
    },
    "id": "yxll6Qk07DOR",
    "outputId": "40f50174-50af-4e02-8bb7-ed9ad8293b80"
   },
   "outputs": [
    {
     "data": {
      "text/plain": [
       "'This is an instance method.'"
      ]
     },
     "execution_count": 30,
     "metadata": {},
     "output_type": "execute_result"
    }
   ],
   "source": [
    "class My_class:\n",
    "  def instance_method(self):\n",
    "    return \"This is an instance method.\"\n",
    "\n",
    "obj = My_class()\n",
    "obj.instance_method()"
   ]
  },
  {
   "cell_type": "code",
   "execution_count": 31,
   "metadata": {
    "id": "XlCh8uyw7W5R"
   },
   "outputs": [],
   "source": [
    "class My_class:\n",
    "  def __init__(self, a, b):\n",
    "    self.a = a\n",
    "    self.b = b\n",
    "\n",
    "  def instance_method(self):\n",
    "    return f\"This is the instance method and it can access the variables a = {self.a} and\\\n",
    " b = {self.b} with the help of self.\"\n",
    "\n",
    "  @staticmethod\n",
    "  def static_method():\n",
    "      return \"static\"\n",
    "      \n",
    "\n",
    "obj = My_class(2,4)\n",
    "\n",
    "obj2 = My_class(3, 6)\n",
    "obj2.a = 4\n",
    "\n",
    "obj.b = 10\n",
    "\n",
    "obj2.instance_method()\n",
    "\n",
    "\n",
    "obj.static_method()\n",
    "\n",
    "\n",
    "class Cat:\n",
    "    def __init__(self, name, age):\n",
    "      self.name = name\n",
    "      self.age = age\n",
    "\n",
    "    @staticmethod\n",
    "    def speak():\n",
    "      return \"Meow\"\n",
    "\n"
   ]
  },
  {
   "cell_type": "code",
   "execution_count": 32,
   "metadata": {
    "colab": {
     "base_uri": "https://localhost:8080/"
    },
    "id": "w1bdnphPwAOF",
    "outputId": "7675a402-b0d4-4df3-d460-6e943916f299"
   },
   "outputs": [
    {
     "name": "stdout",
     "output_type": "stream",
     "text": [
      "['James KirkJames Kirk', 68, 'CaptainCaptain', 4530]\n",
      "[4532]\n"
     ]
    }
   ],
   "source": [
    "kirk = [\"James Kirk\", 34, \"Captain\", 2265]\n",
    "k = \"James Kirk\"\n",
    "t = \"Tiberius\"\n",
    "spock = [\"Spock\", 35, \"Science Officer\", 2254]\n",
    "mccoy = [\"Leonard McCoy\", \"Chief Medical Officer\", 2266, None, \"also meep\"]\n",
    "\n",
    "\n",
    "# add both strings and integers\n",
    "# None or a dictionary is not supported with i +\n",
    "kirk2 = [i + i for i in kirk]\n",
    "print(kirk2)\n",
    "\n",
    "# add only integers\n",
    "# i * 2, which gives the same result as above \n",
    "# also duplicates strings/lists/tuples\n",
    "kirk2 = [i * 2 for i in mccoy if type(i) == int]\n",
    "print(kirk2)"
   ]
  },
  {
   "cell_type": "code",
   "execution_count": 33,
   "metadata": {
    "id": "j_em7UCyxJGV"
   },
   "outputs": [],
   "source": [
    "class Human:\n",
    "  '''This is a test class'''\n",
    "  pass"
   ]
  },
  {
   "cell_type": "markdown",
   "metadata": {
    "id": "PXybgPrTxY1x"
   },
   "source": [
    "* Definition is started by the word class\n",
    "* By convention, UsePascalCaseForClassNames, not camelCase or snake_case\n",
    "* The doc string with triple quotes is always a good idea\n",
    "* If the class has no further content, close it with the word pass"
   ]
  },
  {
   "cell_type": "code",
   "execution_count": 34,
   "metadata": {
    "colab": {
     "base_uri": "https://localhost:8080/",
     "height": 269
    },
    "id": "KXhCbbmix537",
    "outputId": "3f070761-a588-42b5-dc2a-38ac307d3a96"
   },
   "outputs": [
    {
     "name": "stdout",
     "output_type": "stream",
     "text": [
      "16\n",
      "<__main__.Human object at 0x000001E6E49D2660>\n",
      "Hello <__main__.Human object at 0x000001E6E49D2660>\n",
      "Hi <__main__.Human object at 0x000001E6E4A01310>\n",
      "False\n"
     ]
    }
   ],
   "source": [
    "adam = Human()\n",
    "print(adam.__sizeof__())\n",
    "print(adam)\n",
    "print(\"Hello \" + str(adam))\n",
    "\n",
    "eve = Human()\n",
    "print('Hi {}'.format(eve))\n",
    "\n",
    "print(adam == eve)\n",
    "# print(adam > eve)"
   ]
  },
  {
   "cell_type": "code",
   "execution_count": 35,
   "metadata": {
    "id": "f167c39yyq8B"
   },
   "outputs": [],
   "source": [
    "class Person:\n",
    "  def __init__(self, name):\n",
    "    self.name = name\n",
    "\n",
    "  def rename(self, name):\n",
    "    self.name = name\n",
    "\n",
    "  def marry(self, other):\n",
    "    if isinstance(other, Person):\n",
    "      self.name = self.name + '-' + other.name"
   ]
  },
  {
   "cell_type": "code",
   "execution_count": 36,
   "metadata": {
    "colab": {
     "base_uri": "https://localhost:8080/"
    },
    "id": "g9NnDhUHzKYf",
    "outputId": "340c4786-8c52-42eb-8cce-dacf2a0803c3"
   },
   "outputs": [
    {
     "name": "stdout",
     "output_type": "stream",
     "text": [
      "Hary\n",
      "Harry\n",
      "Sally\n",
      "Sally-Harry\n"
     ]
    }
   ],
   "source": [
    "harry = Person('Hary')\n",
    "print(harry.name)\n",
    "harry.rename('Harry')\n",
    "print(harry.name)\n",
    "\n",
    "sally = Person('Sally')\n",
    "print(sally.name)\n",
    "sally.marry(harry)\n",
    "print(sally.name)"
   ]
  },
  {
   "cell_type": "markdown",
   "metadata": {
    "id": "-3Ht5C1Vzql5"
   },
   "source": [
    "Some Magic functions\n",
    "* __str__\n",
    "* __eq__\n",
    "\n",
    "Read more here - https://www.tutorialsteacher.com/python/magic-methods-in-python"
   ]
  },
  {
   "cell_type": "code",
   "execution_count": 37,
   "metadata": {
    "id": "o57rC3S4zdQ7"
   },
   "outputs": [],
   "source": [
    "def __str__(self):\n",
    "  return 'My name is ' + self.name\n",
    "\n",
    "def __eq__(self, other):\n",
    "  return self.name == other.name\n",
    "  # dunder"
   ]
  },
  {
   "cell_type": "markdown",
   "metadata": {
    "id": "DnfCUXiD1LgE"
   },
   "source": [
    "By overwriting the dunder functions, you can define the behaviour of\n",
    "your objects with operators like\n",
    "< > = += -= + - * / and many more\n",
    "its string representation and description\n",
    "This enables you to write short and beautiful and hopefully intuitive code\n"
   ]
  },
  {
   "cell_type": "code",
   "execution_count": 38,
   "metadata": {
    "id": "wOS8sfwv1Pjw"
   },
   "outputs": [],
   "source": [
    "class Person:\n",
    "  def __init__(self, name):\n",
    "    self.name = name\n",
    "\n",
    "  def rename(self, name):\n",
    "    self.name = name\n",
    "\n",
    "  def marry(self, other):\n",
    "    if isinstance(other, Person):\n",
    "      self.name = self.name + '-' + other.name\n",
    "\n",
    "  def __str__(self):\n",
    "    return 'My name is ' + self.name\n",
    "\n",
    "  def __eq__(self, other):\n",
    "    return self.name == other.name\n",
    "\n",
    "  def __lt__(self, other):\n",
    "    return self.name.__lt__(other.name)\n",
    "    # delegating to less than comparison for stringsa"
   ]
  },
  {
   "cell_type": "code",
   "execution_count": 39,
   "metadata": {
    "colab": {
     "base_uri": "https://localhost:8080/"
    },
    "id": "gw-RXC63DxpB",
    "outputId": "bedc4aeb-ec92-4bdb-8648-6834e1bdf108"
   },
   "outputs": [
    {
     "name": "stdout",
     "output_type": "stream",
     "text": [
      "My name is Sam\n"
     ]
    }
   ],
   "source": [
    "sam = Person('Sam')\n",
    "print(str(sam))\n",
    "\n"
   ]
  },
  {
   "cell_type": "markdown",
   "metadata": {
    "id": "57wPok6l15lo"
   },
   "source": [
    "Inherit a class"
   ]
  },
  {
   "cell_type": "code",
   "execution_count": 40,
   "metadata": {
    "id": "5PBprMZP17Xd"
   },
   "outputs": [],
   "source": [
    "class Student(Person):\n",
    "  def __init__(self, name, course):\n",
    "    super().__init__('Student ' + name)\n",
    "    self.course = course\n",
    "\n",
    "  def __str__(self):\n",
    "    return super().__str__() + ' and I\\'m studying ' + self.course\n",
    "\n",
    "  def print_name():\n",
    "    return super().name + ' ' + super()._last_name"
   ]
  },
  {
   "cell_type": "code",
   "execution_count": 41,
   "metadata": {
    "colab": {
     "base_uri": "https://localhost:8080/"
    },
    "id": "wmIK73bfEx6q",
    "outputId": "7615bd53-c060-44b8-e8c7-52000e9ac287"
   },
   "outputs": [
    {
     "name": "stdout",
     "output_type": "stream",
     "text": [
      "My name is Student Sandra and I'm studying Mathematics\n",
      "My name is Alex\n"
     ]
    }
   ],
   "source": [
    "sandra = Student('Sandra', 'Mathematics')\n",
    "print(str(sandra))\n",
    "\n",
    "alex = Person(\"Alex\")\n",
    "print(str(alex))"
   ]
  },
  {
   "cell_type": "markdown",
   "metadata": {
    "id": "WsjLygij2Zvs"
   },
   "source": [
    "* Every student is a Person, this is in the declaration of the class\n",
    "* Note how the constructor of Student class delegates to the constructor of the parent class\n",
    "* With super() you can access the methods and attributes of the parent class\n"
   ]
  },
  {
   "cell_type": "code",
   "execution_count": 42,
   "metadata": {
    "colab": {
     "base_uri": "https://localhost:8080/"
    },
    "id": "y2eajrSj2f_H",
    "outputId": "6f7060d2-48f5-434c-a798-e772e501977d"
   },
   "outputs": [
    {
     "name": "stdout",
     "output_type": "stream",
     "text": [
      "My name is Student Mary and I'm studying FE\n",
      "My name is Student Harry and I'm studying CE\n",
      "False\n",
      "<__main__.Person object at 0x000001E6E4843E00>\n",
      "True\n"
     ]
    }
   ],
   "source": [
    "mary = Student('Mary', 'FE')\n",
    "print(mary)\n",
    "\n",
    "harry2 = Student('Harry', 'CE')\n",
    "print(harry2)\n",
    "print(harry == harry2)\n",
    "\n",
    "harry.rename('Student Harry')\n",
    "print(harry)\n",
    "print(harry == harry2)"
   ]
  },
  {
   "cell_type": "markdown",
   "metadata": {
    "id": "yufVgN4i4EIQ"
   },
   "source": [
    "# The four principles of OOP\n",
    "\n",
    "This is how OOP is different from modular programming (or other programming paradigms)\n",
    "* Encapsulation\n",
    "* Abstraction\n",
    "* Inheritance\n",
    "* Polymorphism\n"
   ]
  },
  {
   "cell_type": "markdown",
   "metadata": {
    "id": "dWaJVfdH4LRO"
   },
   "source": [
    "* **ENCAPSULATION**: Each object keeps its data private. Other objects don’t have the direct access to this data. However, they can interact with the object through public methods.\n"
   ]
  },
  {
   "cell_type": "code",
   "execution_count": 43,
   "metadata": {
    "id": "TnkvI3_d4qkk"
   },
   "outputs": [],
   "source": [
    "class Person:\n",
    "   def __init__(self):\n",
    "       self.name = 'Marry'\n",
    "       self._last_name = 'Poppins' # protected\n",
    "\n",
    "   def print_name(self):\n",
    "       return self.name + ' ' + self._last_name\n"
   ]
  },
  {
   "cell_type": "code",
   "execution_count": null,
   "metadata": {
    "id": "bHVul3YVIRJc"
   },
   "outputs": [],
   "source": []
  },
  {
   "cell_type": "markdown",
   "metadata": {
    "id": "2_gtIxFP4yzp"
   },
   "source": [
    "**NOTE:**\n",
    "Python does not support protected/private methods or variables (unlike Java,c++,etc).\n",
    "Alternatively a convention is used to denote whether a variable or method is protected/private.\n"
   ]
  },
  {
   "cell_type": "markdown",
   "metadata": {
    "id": "GXO7h1sn497o"
   },
   "source": [
    "**Access modifiers:**\n",
    "* **Public**: can be accessed anywhere inside or outside the class\n",
    "* **Protected**: can be accessed inside the class and the classes derived from that class(subclasses)\n",
    "* **Private**: can only be accessed inside the class\n"
   ]
  },
  {
   "cell_type": "markdown",
   "metadata": {
    "id": "0ngF_iC56Lvb"
   },
   "source": [
    "# PROTECTED VARIABLE\n",
    "\n",
    "- Uses single underscore (_variable_name)\n",
    "\n"
   ]
  },
  {
   "cell_type": "code",
   "execution_count": 44,
   "metadata": {
    "colab": {
     "base_uri": "https://localhost:8080/"
    },
    "id": "HZCWUZxf5K1m",
    "outputId": "3581d826-51a0-48a3-a19e-acda7172ba2f"
   },
   "outputs": [
    {
     "name": "stdout",
     "output_type": "stream",
     "text": [
      "Marry\n",
      "Marry Poppins\n",
      "Poppins\n"
     ]
    }
   ],
   "source": [
    "p = Person()\n",
    "print(p.name)\n",
    "print(p.print_name())\n",
    "print(p._last_name) # not intended usage. Variable is protected\n"
   ]
  },
  {
   "cell_type": "markdown",
   "metadata": {
    "id": "XZLWlenS5vdK"
   },
   "source": [
    "NOTE:\n",
    "We have two options to fix this:\n",
    "\n",
    "1.   Make the variable public\n",
    "2.   Use Setters/Getters approach (by using @property which is the python way)\n",
    "\n",
    "\n",
    "To add a second setter method:\n",
    "@last_name.setter\n",
    "def last_name(self, last_name):\n",
    "   self._last_name = last_name\n",
    "\n",
    "One can still use _last_name though, but one should not\n"
   ]
  },
  {
   "cell_type": "code",
   "execution_count": 45,
   "metadata": {
    "id": "q6fWHCpV5Uor"
   },
   "outputs": [],
   "source": [
    "class Person:\n",
    "   def __init__(self):\n",
    "       self.name = 'Marry'\n",
    "       self._last_name = 'Poppins'\n",
    "\n",
    "   def print_name(self):\n",
    "       return self.name + ' ' + self._last_name\n",
    "\n",
    "   @property\n",
    "   def last_name(self):\n",
    "       return self._last_name\n",
    "\n",
    "   @last_name.setter\n",
    "   def last_name(self, last_name):\n",
    "       self._last_name = last_name\n"
   ]
  },
  {
   "cell_type": "code",
   "execution_count": 46,
   "metadata": {
    "id": "UWmo6z2kLUNZ"
   },
   "outputs": [],
   "source": [
    "class Student(Person):\n",
    "  def __init__(self):\n",
    "    super().__init__()\n",
    "\n",
    "  # def __str__(self):\n",
    "  #   return super().__str__() + ' and I\\'m studying ' + self.course\n",
    "\n",
    "  def print_name(self):\n",
    "    return 'Student ' + self.name + ' ' + self._last_name"
   ]
  },
  {
   "cell_type": "code",
   "execution_count": 47,
   "metadata": {
    "colab": {
     "base_uri": "https://localhost:8080/"
    },
    "id": "8ju6aqcRLjtL",
    "outputId": "60f19105-9950-4df0-962f-f4b19b041ff0"
   },
   "outputs": [
    {
     "name": "stdout",
     "output_type": "stream",
     "text": [
      "Marry Poppins\n",
      "Student Marry Poppins\n"
     ]
    }
   ],
   "source": [
    "p = Person()\n",
    "print(p.print_name()) # Marry Poppins\n",
    "\n",
    "s = Student()\n",
    "print(s.print_name()) # Student Marry Poppins"
   ]
  },
  {
   "cell_type": "code",
   "execution_count": 48,
   "metadata": {
    "colab": {
     "base_uri": "https://localhost:8080/"
    },
    "id": "a955uPbO5_PQ",
    "outputId": "d336a0e6-837c-494e-cd21-a0c5715ab3bf"
   },
   "outputs": [
    {
     "name": "stdout",
     "output_type": "stream",
     "text": [
      "Marry\n",
      "Poppins\n",
      "Marry Poppins\n",
      "Poppins\n"
     ]
    }
   ],
   "source": [
    "p = Person()\n",
    "print(p.name)\n",
    "print(p._last_name)\n",
    "print(p.print_name())\n",
    "print(p.last_name)  # intended usage using getter"
   ]
  },
  {
   "cell_type": "markdown",
   "metadata": {
    "id": "RwVJlvrM6PC1"
   },
   "source": [
    "# PRIVATE VARIABLE\n",
    "\n",
    "- Uses double underscore (__variable_name)"
   ]
  },
  {
   "cell_type": "code",
   "execution_count": 49,
   "metadata": {
    "id": "jtLQ3ik66RAB"
   },
   "outputs": [],
   "source": [
    "class Person:\n",
    "   def __init__(self):\n",
    "       self.name = 'Marry'\n",
    "       self.__last_name = 'Poppins' # private var\n",
    "\n",
    "   def print_name(self):\n",
    "       return self.name + ' ' + self.__last_name\n",
    "\n",
    "   def last_name(self):\n",
    "       return self.__last_name\n"
   ]
  },
  {
   "cell_type": "code",
   "execution_count": 50,
   "metadata": {
    "colab": {
     "base_uri": "https://localhost:8080/"
    },
    "id": "zb2Y5U4j6SL4",
    "outputId": "9e4e280c-327a-48b2-fc1b-1c39456dfce5"
   },
   "outputs": [
    {
     "name": "stdout",
     "output_type": "stream",
     "text": [
      "Marry\n",
      "Marry Poppins\n",
      "Poppins\n"
     ]
    }
   ],
   "source": [
    "p = Person()\n",
    "print(p.name)\n",
    "print(p.print_name()) # Marry Poppins\n",
    "print(p.last_name())\n",
    "# print(p.__last_name)  # error. No attribute found"
   ]
  },
  {
   "cell_type": "markdown",
   "metadata": {
    "id": "C0_xojfe6ph-"
   },
   "source": [
    "**NOTE:**\n",
    "Double underscore(__var) leads to the variable being “private” in python.\n",
    "\n",
    "One would not be able to access it with __last_name.\n",
    "\n",
    "One can still access with _Person__last_name though, thats why its not really private. (name mangling)\n"
   ]
  },
  {
   "cell_type": "markdown",
   "metadata": {
    "id": "D7TY0v0C4Tn5"
   },
   "source": [
    "* **ABSTRACTION**: Each object reveals operations only relevant to the other objects. Abstraction means hiding internal implementation details."
   ]
  },
  {
   "cell_type": "code",
   "execution_count": 51,
   "metadata": {
    "id": "7Y6AjFpu7Dhk"
   },
   "outputs": [
    {
     "name": "stdout",
     "output_type": "stream",
     "text": [
      "Woof\n",
      "Meow\n"
     ]
    }
   ],
   "source": [
    "class CoffeeMachine:\n",
    "  def __init__(self):\n",
    "    self.coffee_beans = 10\n",
    "    self.water = 5\n",
    "\n",
    "  def brew(self):\n",
    "    self.coffee_beans -= 1\n",
    "    self.water -= 1\n",
    "    return 'Coffee brewed ... receive cup'\n",
    "\n",
    "\n",
    "class Animal:\n",
    "    def __init__(self, name):\n",
    "        self.name = name\n",
    "\n",
    "    def speak(self):\n",
    "        pass\n",
    "\n",
    "class Cat(Animal):\n",
    "    def speak(self):\n",
    "        print(\"Meow\")\n",
    "\n",
    "class Dog(Animal):\n",
    "    def speak(self):\n",
    "        print(\"Woof\")\n",
    "\n",
    "class Mouse(Animal):\n",
    "    def speak(self):\n",
    "        print(\"Inaudible squeaks\")\n",
    "\n",
    "puppy = Dog(\"pup\")\n",
    "kitty = Cat(\"kit\")\n",
    "\n",
    "puppy.speak()\n",
    "kitty.speak()\n"
   ]
  },
  {
   "cell_type": "markdown",
   "metadata": {
    "id": "qlkeQFcF4Yqk"
   },
   "source": [
    "* **INHERITANCE**: Reusing the common logic and extract the unique logic onto a separate class. We create a child class that is derived from the parent class. Child class uses all the fields and methods of parent class and also implements its own unique part.\n"
   ]
  },
  {
   "cell_type": "code",
   "execution_count": 52,
   "metadata": {
    "id": "_iebzDd0VfaW"
   },
   "outputs": [],
   "source": [
    "class Animal:\n",
    "  def __init__(self, name):\n",
    "    self.name = name\n",
    "\n",
    "  def get_name(self):\n",
    "    return self.name\n",
    "\n",
    "  def number_of_legs(self):\n",
    "    return 4"
   ]
  },
  {
   "cell_type": "code",
   "execution_count": 53,
   "metadata": {
    "id": "SMtOaiNjV4xj"
   },
   "outputs": [],
   "source": [
    "class Cat(Animal):\n",
    "  def __init__(self, name):\n",
    "    super().__init__(name)\n",
    "\n"
   ]
  },
  {
   "cell_type": "code",
   "execution_count": 54,
   "metadata": {
    "colab": {
     "base_uri": "https://localhost:8080/"
    },
    "id": "j_PQAR6eWIQ9",
    "outputId": "1dd33a1f-8e3c-40be-e45d-daecafb4771b"
   },
   "outputs": [
    {
     "name": "stdout",
     "output_type": "stream",
     "text": [
      "Muffy\n"
     ]
    }
   ],
   "source": [
    "c = Cat(\"Muffy\")\n",
    "print(c.get_name())"
   ]
  },
  {
   "cell_type": "markdown",
   "metadata": {
    "id": "YT8708xq4fZg"
   },
   "source": [
    "* **POLYMORPHISM**: Base classes can define an interface (abstract methods) that looks the same to the outside for all child classes. But each child class can have its own implementation. Inheriting from the same base class makes the different child classes “look the same”.\n"
   ]
  },
  {
   "cell_type": "code",
   "execution_count": 55,
   "metadata": {
    "id": "Bn3UJjHSW1SV"
   },
   "outputs": [],
   "source": [
    "class Monkey(Animal):\n",
    "  def __init__(self, name):\n",
    "    super().__init__(name)\n",
    "\n",
    "  def number_of_legs(self):\n",
    "    return 2"
   ]
  },
  {
   "cell_type": "code",
   "execution_count": 56,
   "metadata": {
    "colab": {
     "base_uri": "https://localhost:8080/"
    },
    "id": "MvJTt5RRXMa6",
    "outputId": "e2498e8b-905f-4deb-c57f-3d9ccf730889"
   },
   "outputs": [
    {
     "name": "stdout",
     "output_type": "stream",
     "text": [
      "2\n"
     ]
    }
   ],
   "source": [
    "m = Monkey(\"Aby\")\n",
    "print(m.number_of_legs())"
   ]
  }
 ],
 "metadata": {
  "colab": {
   "provenance": []
  },
  "kernelspec": {
   "display_name": "Python 3",
   "language": "python",
   "name": "python3"
  },
  "language_info": {
   "codemirror_mode": {
    "name": "ipython",
    "version": 3
   },
   "file_extension": ".py",
   "mimetype": "text/x-python",
   "name": "python",
   "nbconvert_exporter": "python",
   "pygments_lexer": "ipython3",
   "version": "3.13.7"
  }
 },
 "nbformat": 4,
 "nbformat_minor": 4
}
